{
   "cells": [
      {
         "cell_type": "code",
         "execution_count": 1,
         "metadata": {},
         "outputs": [],
         "source": [
            "from src.Models import MyModel\n",
            "\n",
            "from sklearn.metrics import f1_score\n",
            "from sklearn.model_selection import train_test_split\n",
            "import pandas as pd\n",
            "import numpy as np\n",
            "import os"
         ]
      },
      {
         "cell_type": "markdown",
         "metadata": {},
         "source": [
            "## 1. Load and split data"
         ]
      },
      {
         "cell_type": "code",
         "execution_count": 2,
         "metadata": {},
         "outputs": [],
         "source": [
            "train_values = pd.read_csv(\"./data/raw/train_values.csv\")\n",
            "train_labels = pd.read_csv(\"./data/raw/train_labels.csv\")\n",
            "test_values = pd.read_csv(\"./data/raw/test_values.csv\")\n",
            "\n",
            "# !!! DROP building_id !!!\n",
            "train_values.drop(columns='building_id',inplace=True)\n",
            "train_labels.drop(columns='building_id',inplace=True)\n",
            "test_wo_id = test_values.drop(columns='building_id')\n"
         ]
      },
      {
         "cell_type": "code",
         "execution_count": 3,
         "metadata": {},
         "outputs": [],
         "source": [
            "X_train,X_test,y_train,y_test = train_test_split(train_values,train_labels,random_state=42,test_size=0.2)"
         ]
      },
      {
         "cell_type": "code",
         "execution_count": 4,
         "metadata": {},
         "outputs": [],
         "source": [
            "columns_to_target_encode = ['geo_level_1_id','geo_level_2_id','geo_level_3_id']\n",
            "columns_to_label_encode = ['land_surface_condition','foundation_type','roof_type','ground_floor_type','other_floor_type','position','plan_configuration','legal_ownership_status']"
         ]
      },
      {
         "cell_type": "markdown",
         "metadata": {},
         "source": [
            "## 2. DecisionTree-Pipeline"
         ]
      },
      {
         "cell_type": "code",
         "execution_count": 5,
         "metadata": {},
         "outputs": [],
         "source": [
            "# Initialize Model\n",
            "dt = MyModel(model=\"DecisionTree\", columns_to_labelencode=columns_to_label_encode, columns_to_targetencode=columns_to_target_encode)"
         ]
      },
      {
         "cell_type": "code",
         "execution_count": 6,
         "metadata": {},
         "outputs": [
            {
               "name": "stderr",
               "output_type": "stream",
               "text": [
                  "/home/svenja/anaconda3/envs/competition/lib/python3.11/site-packages/sklearn/utils/validation.py:1183: DataConversionWarning: A column-vector y was passed when a 1d array was expected. Please change the shape of y to (n_samples, ), for example using ravel().\n",
                  "  y = column_or_1d(y, warn=True)\n"
               ]
            },
            {
               "name": "stdout",
               "output_type": "stream",
               "text": [
                  "[Pipeline] ..... (step 1 of 2) Processing label_encoder, total=   0.3s\n",
                  "[Pipeline] ......... (step 2 of 2) Processing estimator, total=   1.1s\n"
               ]
            }
         ],
         "source": [
            "dt.fit(X=X_train,y=y_train)"
         ]
      },
      {
         "cell_type": "code",
         "execution_count": 7,
         "metadata": {},
         "outputs": [
            {
               "data": {
                  "text/plain": [
                     "0.7287849427294181"
                  ]
               },
               "execution_count": 7,
               "metadata": {},
               "output_type": "execute_result"
            }
         ],
         "source": [
            "dt.get_f1_score(X_test,y_test)"
         ]
      },
      {
         "cell_type": "code",
         "execution_count": 8,
         "metadata": {},
         "outputs": [],
         "source": [
            "prediction = dt.predict(X=X_test)"
         ]
      },
      {
         "cell_type": "markdown",
         "metadata": {},
         "source": [
            "## 3. XGBoost-Pipeline"
         ]
      },
      {
         "cell_type": "code",
         "execution_count": 9,
         "metadata": {},
         "outputs": [],
         "source": [
            "#xg = MyModel(model=\"XGBoost\",columns_to_labelencode=columns_to_label_encode, columns_to_targetencode=columns_to_target_encode)"
         ]
      },
      {
         "cell_type": "code",
         "execution_count": 10,
         "metadata": {},
         "outputs": [],
         "source": [
            "#xg.fit(X=X_train,y=y_train)"
         ]
      },
      {
         "cell_type": "code",
         "execution_count": 11,
         "metadata": {},
         "outputs": [],
         "source": [
            "#xg.get_f1_score(X_test,y_test)"
         ]
      },
      {
         "cell_type": "code",
         "execution_count": 12,
         "metadata": {},
         "outputs": [],
         "source": [
            "#xg.predict2submit(test_wo_id, test_values)\n"
         ]
      },
      {
         "cell_type": "markdown",
         "metadata": {},
         "source": [
            "## 4. LightGBM-Pipeline"
         ]
      },
      {
         "cell_type": "code",
         "execution_count": 13,
         "metadata": {},
         "outputs": [
            {
               "name": "stderr",
               "output_type": "stream",
               "text": [
                  "/home/svenja/anaconda3/envs/competition/lib/python3.11/site-packages/sklearn/utils/validation.py:1183: DataConversionWarning: A column-vector y was passed when a 1d array was expected. Please change the shape of y to (n_samples, ), for example using ravel().\n",
                  "  y = column_or_1d(y, warn=True)\n",
                  "/home/svenja/anaconda3/envs/competition/lib/python3.11/site-packages/sklearn/preprocessing/_label.py:97: DataConversionWarning: A column-vector y was passed when a 1d array was expected. Please change the shape of y to (n_samples, ), for example using ravel().\n",
                  "  y = column_or_1d(y, warn=True)\n",
                  "/home/svenja/anaconda3/envs/competition/lib/python3.11/site-packages/sklearn/preprocessing/_label.py:132: DataConversionWarning: A column-vector y was passed when a 1d array was expected. Please change the shape of y to (n_samples, ), for example using ravel().\n",
                  "  y = column_or_1d(y, dtype=self.classes_.dtype, warn=True)\n"
               ]
            },
            {
               "name": "stdout",
               "output_type": "stream",
               "text": [
                  "[Pipeline] ..... (step 1 of 2) Processing label_encoder, total=   0.3s\n",
                  "[LightGBM] [Warning] min_data_in_leaf is set=20, min_child_samples=20 will be ignored. Current value: min_data_in_leaf=20\n",
                  "[LightGBM] [Warning] feature_fraction is set=0.8, colsample_bytree=1.0 will be ignored. Current value: feature_fraction=0.8\n",
                  "[LightGBM] [Warning] lambda_l2 is set=0.1, reg_lambda=0.0 will be ignored. Current value: lambda_l2=0.1\n",
                  "[LightGBM] [Warning] lambda_l1 is set=0.1, reg_alpha=0.0 will be ignored. Current value: lambda_l1=0.1\n",
                  "[LightGBM] [Warning] bagging_fraction is set=1.0, subsample=1.0 will be ignored. Current value: bagging_fraction=1.0\n",
                  "[LightGBM] [Warning] min_data_in_leaf is set=20, min_child_samples=20 will be ignored. Current value: min_data_in_leaf=20\n",
                  "[LightGBM] [Warning] feature_fraction is set=0.8, colsample_bytree=1.0 will be ignored. Current value: feature_fraction=0.8\n",
                  "[LightGBM] [Warning] lambda_l2 is set=0.1, reg_lambda=0.0 will be ignored. Current value: lambda_l2=0.1\n",
                  "[LightGBM] [Warning] lambda_l1 is set=0.1, reg_alpha=0.0 will be ignored. Current value: lambda_l1=0.1\n",
                  "[LightGBM] [Warning] bagging_fraction is set=1.0, subsample=1.0 will be ignored. Current value: bagging_fraction=1.0\n",
                  "[LightGBM] [Info] Auto-choosing row-wise multi-threading, the overhead of testing was 0.011863 seconds.\n",
                  "You can set `force_row_wise=true` to remove the overhead.\n",
                  "And if memory is not enough, you can set `force_col_wise=true`.\n",
                  "[LightGBM] [Info] Total Bins 900\n",
                  "[LightGBM] [Info] Number of data points in the train set: 208480, number of used features: 37\n",
                  "[LightGBM] [Info] Start training from score -2.346413\n",
                  "[LightGBM] [Info] Start training from score -0.562637\n",
                  "[LightGBM] [Info] Start training from score -1.094868\n",
                  "[Pipeline] ......... (step 2 of 2) Processing estimator, total=   1.3s\n"
               ]
            }
         ],
         "source": [
            "lgbm = MyModel(model=\"LightGBM\",columns_to_labelencode=columns_to_label_encode, columns_to_targetencode=columns_to_target_encode)\n",
            "lgbm.fit(X=X_train,y=y_train)"
         ]
      },
      {
         "cell_type": "code",
         "execution_count": 14,
         "metadata": {},
         "outputs": [
            {
               "name": "stdout",
               "output_type": "stream",
               "text": [
                  "[LightGBM] [Warning] min_data_in_leaf is set=20, min_child_samples=20 will be ignored. Current value: min_data_in_leaf=20\n",
                  "[LightGBM] [Warning] feature_fraction is set=0.8, colsample_bytree=1.0 will be ignored. Current value: feature_fraction=0.8\n",
                  "[LightGBM] [Warning] lambda_l2 is set=0.1, reg_lambda=0.0 will be ignored. Current value: lambda_l2=0.1\n",
                  "[LightGBM] [Warning] lambda_l1 is set=0.1, reg_alpha=0.0 will be ignored. Current value: lambda_l1=0.1\n",
                  "[LightGBM] [Warning] bagging_fraction is set=1.0, subsample=1.0 will be ignored. Current value: bagging_fraction=1.0\n"
               ]
            },
            {
               "data": {
                  "text/plain": [
                     "0.7353274112162085"
                  ]
               },
               "execution_count": 14,
               "metadata": {},
               "output_type": "execute_result"
            }
         ],
         "source": [
            "lgbm.get_f1_score(X_test,y_test)"
         ]
      },
      {
         "cell_type": "code",
         "execution_count": 19,
         "metadata": {},
         "outputs": [
            {
               "name": "stdout",
               "output_type": "stream",
               "text": [
                  "[LightGBM] [Warning] min_data_in_leaf is set=20, min_child_samples=20 will be ignored. Current value: min_data_in_leaf=20\n",
                  "[LightGBM] [Warning] feature_fraction is set=0.8, colsample_bytree=1.0 will be ignored. Current value: feature_fraction=0.8\n",
                  "[LightGBM] [Warning] lambda_l2 is set=0.1, reg_lambda=0.0 will be ignored. Current value: lambda_l2=0.1\n",
                  "[LightGBM] [Warning] lambda_l1 is set=0.1, reg_alpha=0.0 will be ignored. Current value: lambda_l1=0.1\n",
                  "[LightGBM] [Warning] bagging_fraction is set=1.0, subsample=1.0 will be ignored. Current value: bagging_fraction=1.0\n"
               ]
            }
         ],
         "source": [
            "lgbm.predict2submit(test_wo_id, test_values).to_csv(path_or_buf='./data/processed/20231007_lightgbm_geo_encoding.csv', index=False)"
         ]
      },
      {
         "cell_type": "markdown",
         "metadata": {},
         "source": [
            "## 99. Export this Jupyter Notebook as an HTML-file"
         ]
      },
      {
         "cell_type": "code",
         "execution_count": 15,
         "metadata": {},
         "outputs": [],
         "source": [
            "# This command exports the Jupyter-Notebook as an HTML-File an saves it to ./reports/jupyter_html\n",
            "#os.system('DATE=$(date +%s); jupyter nbconvert --to html main.ipynb && mv ./main.html ./reports/jupyter_html/ && mv ./reports/jupyter_html/main.html ./reports/jupyter_html/notebook_${DATE}.html')"
         ]
      },
      {
         "cell_type": "code",
         "execution_count": null,
         "metadata": {},
         "outputs": [],
         "source": []
      }
   ],
   "metadata": {
      "kernelspec": {
         "display_name": "minicomp",
         "language": "python",
         "name": "minicomp"
      },
      "language_info": {
         "codemirror_mode": {
            "name": "ipython",
            "version": 3
         },
         "file_extension": ".py",
         "mimetype": "text/x-python",
         "name": "python",
         "nbconvert_exporter": "python",
         "pygments_lexer": "ipython3",
         "version": "3.11.5"
      },
      "orig_nbformat": 4
   },
   "nbformat": 4,
   "nbformat_minor": 2
}
