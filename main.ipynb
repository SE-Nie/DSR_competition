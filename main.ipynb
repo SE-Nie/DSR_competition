{
   "cells": [
      {
         "cell_type": "code",
         "execution_count": 1,
         "metadata": {},
         "outputs": [],
         "source": [
            "from src.Models import MyModel\n",
            "\n",
            "from sklearn.metrics import f1_score\n",
            "from sklearn.model_selection import train_test_split\n",
            "import pandas as pd\n",
            "import numpy as np\n",
            "import os"
         ]
      },
      {
         "cell_type": "markdown",
         "metadata": {},
         "source": [
            "## 1. Load and split data"
         ]
      },
      {
         "cell_type": "code",
         "execution_count": 2,
         "metadata": {},
         "outputs": [],
         "source": [
            "train_values = pd.read_csv(\"./data/raw/train_values.csv\")\n",
            "train_labels = pd.read_csv(\"./data/raw/train_labels.csv\")\n",
            "test_values = pd.read_csv(\"./data/raw/test_values.csv\")\n",
            "\n",
            "# !!! DROP building_id !!!\n",
            "train_values.drop(columns='building_id',inplace=True)\n",
            "train_labels.drop(columns='building_id',inplace=True)\n",
            "test_wo_id = test_values.drop(columns='building_id')\n"
         ]
      },
      {
         "cell_type": "code",
         "execution_count": 3,
         "metadata": {},
         "outputs": [],
         "source": [
            "X_train,X_test,y_train,y_test = train_test_split(train_values,train_labels,random_state=42,test_size=0.2)"
         ]
      },
      {
         "cell_type": "code",
         "execution_count": 4,
         "metadata": {},
         "outputs": [],
         "source": [
            "columns_to_target_encode = ['geo_level_1_id','geo_level_2_id','geo_level_3_id']\n",
            "columns_to_label_encode = ['land_surface_condition','foundation_type','roof_type','ground_floor_type','other_floor_type','position','plan_configuration','legal_ownership_status']"
         ]
      },
      {
         "cell_type": "markdown",
         "metadata": {},
         "source": [
            "## 2. DecisionTree-Pipeline"
         ]
      },
      {
         "cell_type": "code",
         "execution_count": 5,
         "metadata": {},
         "outputs": [],
         "source": [
            "# Initialize Model\n",
            "dt = MyModel(model=\"DecisionTree\", columns_to_labelencode=columns_to_label_encode, columns_to_targetencode=columns_to_target_encode)"
         ]
      },
      {
         "cell_type": "code",
         "execution_count": 6,
         "metadata": {},
         "outputs": [
            {
               "name": "stderr",
               "output_type": "stream",
               "text": [
                  "/home/svenja/anaconda3/envs/competition/lib/python3.11/site-packages/sklearn/utils/validation.py:1183: DataConversionWarning: A column-vector y was passed when a 1d array was expected. Please change the shape of y to (n_samples, ), for example using ravel().\n",
                  "  y = column_or_1d(y, warn=True)\n"
               ]
            },
            {
               "name": "stdout",
               "output_type": "stream",
               "text": [
                  "[Pipeline] ..... (step 1 of 2) Processing label_encoder, total=   0.4s\n",
                  "[Pipeline] ......... (step 2 of 2) Processing estimator, total=   1.3s\n"
               ]
            }
         ],
         "source": [
            "dt.fit(X=X_train,y=y_train)"
         ]
      },
      {
         "cell_type": "code",
         "execution_count": 7,
         "metadata": {},
         "outputs": [
            {
               "data": {
                  "text/plain": [
                     "0.7287849427294181"
                  ]
               },
               "execution_count": 7,
               "metadata": {},
               "output_type": "execute_result"
            }
         ],
         "source": [
            "dt.get_f1_score(X_test,y_test)"
         ]
      },
      {
         "cell_type": "code",
         "execution_count": 8,
         "metadata": {},
         "outputs": [],
         "source": [
            "prediction = dt.predict(X=X_test)"
         ]
      },
      {
         "cell_type": "markdown",
         "metadata": {},
         "source": [
            "## 3. XGBoost-Pipeline"
         ]
      },
      {
         "cell_type": "code",
         "execution_count": 9,
         "metadata": {},
         "outputs": [],
         "source": [
            "xg = MyModel(model=\"XGBoost\",columns_to_labelencode=columns_to_label_encode, columns_to_targetencode=columns_to_target_encode)"
         ]
      },
      {
         "cell_type": "code",
         "execution_count": 10,
         "metadata": {},
         "outputs": [
            {
               "name": "stderr",
               "output_type": "stream",
               "text": [
                  "/home/svenja/anaconda3/envs/competition/lib/python3.11/site-packages/sklearn/utils/validation.py:1183: DataConversionWarning: A column-vector y was passed when a 1d array was expected. Please change the shape of y to (n_samples, ), for example using ravel().\n",
                  "  y = column_or_1d(y, warn=True)\n",
                  "/home/svenja/anaconda3/envs/competition/lib/python3.11/site-packages/xgboost/data.py:384: FutureWarning: is_categorical_dtype is deprecated and will be removed in a future version. Use isinstance(dtype, CategoricalDtype) instead\n",
                  "  if is_categorical_dtype(dtype):\n",
                  "/home/svenja/anaconda3/envs/competition/lib/python3.11/site-packages/xgboost/data.py:359: FutureWarning: is_categorical_dtype is deprecated and will be removed in a future version. Use isinstance(dtype, CategoricalDtype) instead\n",
                  "  return is_int or is_bool or is_float or is_categorical_dtype(dtype)\n",
                  "/home/svenja/anaconda3/envs/competition/lib/python3.11/site-packages/xgboost/data.py:384: FutureWarning: is_categorical_dtype is deprecated and will be removed in a future version. Use isinstance(dtype, CategoricalDtype) instead\n",
                  "  if is_categorical_dtype(dtype):\n",
                  "/home/svenja/anaconda3/envs/competition/lib/python3.11/site-packages/xgboost/data.py:359: FutureWarning: is_categorical_dtype is deprecated and will be removed in a future version. Use isinstance(dtype, CategoricalDtype) instead\n",
                  "  return is_int or is_bool or is_float or is_categorical_dtype(dtype)\n"
               ]
            },
            {
               "name": "stdout",
               "output_type": "stream",
               "text": [
                  "[Pipeline] ..... (step 1 of 2) Processing label_encoder, total=   0.3s\n"
               ]
            },
            {
               "name": "stderr",
               "output_type": "stream",
               "text": [
                  "/home/svenja/anaconda3/envs/competition/lib/python3.11/site-packages/xgboost/data.py:384: FutureWarning: is_categorical_dtype is deprecated and will be removed in a future version. Use isinstance(dtype, CategoricalDtype) instead\n",
                  "  if is_categorical_dtype(dtype):\n",
                  "/home/svenja/anaconda3/envs/competition/lib/python3.11/site-packages/xgboost/data.py:359: FutureWarning: is_categorical_dtype is deprecated and will be removed in a future version. Use isinstance(dtype, CategoricalDtype) instead\n",
                  "  return is_int or is_bool or is_float or is_categorical_dtype(dtype)\n",
                  "/home/svenja/anaconda3/envs/competition/lib/python3.11/site-packages/xgboost/data.py:384: FutureWarning: is_categorical_dtype is deprecated and will be removed in a future version. Use isinstance(dtype, CategoricalDtype) instead\n",
                  "  if is_categorical_dtype(dtype):\n",
                  "/home/svenja/anaconda3/envs/competition/lib/python3.11/site-packages/xgboost/data.py:359: FutureWarning: is_categorical_dtype is deprecated and will be removed in a future version. Use isinstance(dtype, CategoricalDtype) instead\n",
                  "  return is_int or is_bool or is_float or is_categorical_dtype(dtype)\n"
               ]
            },
            {
               "name": "stdout",
               "output_type": "stream",
               "text": [
                  "[Pipeline] ......... (step 2 of 2) Processing estimator, total=  39.0s\n"
               ]
            }
         ],
         "source": [
            "xg.fit(X=X_train,y=y_train)"
         ]
      },
      {
         "cell_type": "code",
         "execution_count": 11,
         "metadata": {},
         "outputs": [
            {
               "data": {
                  "text/plain": [
                     "0.7409297595978588"
                  ]
               },
               "execution_count": 11,
               "metadata": {},
               "output_type": "execute_result"
            }
         ],
         "source": [
            "xg.get_f1_score(X_test,y_test)"
         ]
      },
      {
         "cell_type": "code",
         "execution_count": 12,
         "metadata": {},
         "outputs": [
            {
               "data": {
                  "text/html": [
                     "<div>\n",
                     "<style scoped>\n",
                     "    .dataframe tbody tr th:only-of-type {\n",
                     "        vertical-align: middle;\n",
                     "    }\n",
                     "\n",
                     "    .dataframe tbody tr th {\n",
                     "        vertical-align: top;\n",
                     "    }\n",
                     "\n",
                     "    .dataframe thead th {\n",
                     "        text-align: right;\n",
                     "    }\n",
                     "</style>\n",
                     "<table border=\"1\" class=\"dataframe\">\n",
                     "  <thead>\n",
                     "    <tr style=\"text-align: right;\">\n",
                     "      <th></th>\n",
                     "      <th>building_id</th>\n",
                     "      <th>damage_grade</th>\n",
                     "    </tr>\n",
                     "  </thead>\n",
                     "  <tbody>\n",
                     "    <tr>\n",
                     "      <th>0</th>\n",
                     "      <td>300051</td>\n",
                     "      <td>3</td>\n",
                     "    </tr>\n",
                     "    <tr>\n",
                     "      <th>1</th>\n",
                     "      <td>99355</td>\n",
                     "      <td>2</td>\n",
                     "    </tr>\n",
                     "    <tr>\n",
                     "      <th>2</th>\n",
                     "      <td>890251</td>\n",
                     "      <td>2</td>\n",
                     "    </tr>\n",
                     "    <tr>\n",
                     "      <th>3</th>\n",
                     "      <td>745817</td>\n",
                     "      <td>1</td>\n",
                     "    </tr>\n",
                     "    <tr>\n",
                     "      <th>4</th>\n",
                     "      <td>421793</td>\n",
                     "      <td>3</td>\n",
                     "    </tr>\n",
                     "    <tr>\n",
                     "      <th>...</th>\n",
                     "      <td>...</td>\n",
                     "      <td>...</td>\n",
                     "    </tr>\n",
                     "    <tr>\n",
                     "      <th>86863</th>\n",
                     "      <td>310028</td>\n",
                     "      <td>2</td>\n",
                     "    </tr>\n",
                     "    <tr>\n",
                     "      <th>86864</th>\n",
                     "      <td>663567</td>\n",
                     "      <td>3</td>\n",
                     "    </tr>\n",
                     "    <tr>\n",
                     "      <th>86865</th>\n",
                     "      <td>1049160</td>\n",
                     "      <td>2</td>\n",
                     "    </tr>\n",
                     "    <tr>\n",
                     "      <th>86866</th>\n",
                     "      <td>442785</td>\n",
                     "      <td>2</td>\n",
                     "    </tr>\n",
                     "    <tr>\n",
                     "      <th>86867</th>\n",
                     "      <td>501372</td>\n",
                     "      <td>2</td>\n",
                     "    </tr>\n",
                     "  </tbody>\n",
                     "</table>\n",
                     "<p>86868 rows × 2 columns</p>\n",
                     "</div>"
                  ],
                  "text/plain": [
                     "       building_id  damage_grade\n",
                     "0           300051             3\n",
                     "1            99355             2\n",
                     "2           890251             2\n",
                     "3           745817             1\n",
                     "4           421793             3\n",
                     "...            ...           ...\n",
                     "86863       310028             2\n",
                     "86864       663567             3\n",
                     "86865      1049160             2\n",
                     "86866       442785             2\n",
                     "86867       501372             2\n",
                     "\n",
                     "[86868 rows x 2 columns]"
                  ]
               },
               "execution_count": 12,
               "metadata": {},
               "output_type": "execute_result"
            }
         ],
         "source": [
            "xg.predict2submit(test_wo_id, test_values)\n"
         ]
      },
      {
         "cell_type": "markdown",
         "metadata": {},
         "source": [
            "## 99. Export this Jupyter Notebook as an HTML-file"
         ]
      },
      {
         "cell_type": "code",
         "execution_count": 13,
         "metadata": {},
         "outputs": [
            {
               "name": "stderr",
               "output_type": "stream",
               "text": [
                  "[NbConvertApp] Converting notebook main.ipynb to html\n",
                  "[NbConvertApp] Writing 291899 bytes to main.html\n"
               ]
            },
            {
               "data": {
                  "text/plain": [
                     "0"
                  ]
               },
               "execution_count": 13,
               "metadata": {},
               "output_type": "execute_result"
            }
         ],
         "source": [
            "# This command exports the Jupyter-Notebook as an HTML-File an saves it to ./reports/jupyter_html\n",
            "os.system('DATE=$(date +%s); jupyter nbconvert --to html main.ipynb && mv ./main.html ./reports/jupyter_html/ && mv ./reports/jupyter_html/main.html ./reports/jupyter_html/notebook_${DATE}.html')"
         ]
      },
      {
         "cell_type": "code",
         "execution_count": null,
         "metadata": {},
         "outputs": [],
         "source": []
      }
   ],
   "metadata": {
      "kernelspec": {
         "display_name": "minicomp",
         "language": "python",
         "name": "minicomp"
      },
      "language_info": {
         "codemirror_mode": {
            "name": "ipython",
            "version": 3
         },
         "file_extension": ".py",
         "mimetype": "text/x-python",
         "name": "python",
         "nbconvert_exporter": "python",
         "pygments_lexer": "ipython3",
         "version": "3.11.5"
      },
      "orig_nbformat": 4
   },
   "nbformat": 4,
   "nbformat_minor": 2
}
