{
   "cells": [
      {
         "cell_type": "code",
         "execution_count": 1,
         "metadata": {},
         "outputs": [],
         "source": [
            "from src.Models import MyModel\n",
            "\n",
            "from sklearn.metrics import f1_score\n",
            "from sklearn.model_selection import train_test_split\n",
            "import pandas as pd\n",
            "import numpy as np\n",
            "import os"
         ]
      },
      {
         "cell_type": "markdown",
         "metadata": {},
         "source": [
            "## 1. Load and split data"
         ]
      },
      {
         "cell_type": "code",
         "execution_count": 2,
         "metadata": {},
         "outputs": [],
         "source": [
            "train_values = pd.read_csv(\"./data/raw/train_values.csv\")\n",
            "train_labels = pd.read_csv(\"./data/raw/train_labels.csv\")\n",
            "test_values = pd.read_csv(\"./data/raw/test_values.csv\")\n",
            "\n",
            "# !!! DROP building_id !!!\n",
            "train_values.drop(columns='building_id',inplace=True)\n",
            "train_labels.drop(columns='building_id',inplace=True)\n",
            "test_wo_id = test_values.drop(columns='building_id')\n"
         ]
      },
      {
         "cell_type": "code",
         "execution_count": 3,
         "metadata": {},
         "outputs": [],
         "source": [
            "X_train,X_test,y_train,y_test = train_test_split(train_values,train_labels,random_state=42,test_size=0.2)"
         ]
      },
      {
         "cell_type": "code",
         "execution_count": 4,
         "metadata": {},
         "outputs": [],
         "source": [
            "columns_to_target_encode = ['geo_level_1_id','geo_level_2_id','geo_level_3_id','ground_floor_type']\n",
            "columns_to_label_encode = ['land_surface_condition','foundation_type','roof_type','other_floor_type','position','plan_configuration','legal_ownership_status']"
         ]
      },
      {
         "cell_type": "markdown",
         "metadata": {},
         "source": [
            "## 2. DecisionTree-Pipeline"
         ]
      },
      {
         "cell_type": "code",
         "execution_count": 5,
         "metadata": {},
         "outputs": [],
         "source": [
            "# Initialize Model\n",
            "dt = MyModel(model=\"DecisionTree\", columns_to_labelencode=columns_to_label_encode, columns_to_targetencode=columns_to_target_encode)"
         ]
      },
      {
         "cell_type": "code",
         "execution_count": 6,
         "metadata": {},
         "outputs": [
            {
               "name": "stderr",
               "output_type": "stream",
               "text": [
                  "/Users/leo/Desktop/Data Science/DSR/Minicomp_w_Paul/DSR_competition/.venv/lib/python3.11/site-packages/sklearn/utils/validation.py:1183: DataConversionWarning: A column-vector y was passed when a 1d array was expected. Please change the shape of y to (n_samples, ), for example using ravel().\n",
                  "  y = column_or_1d(y, warn=True)\n"
               ]
            },
            {
               "name": "stdout",
               "output_type": "stream",
               "text": [
               ]
            }
         ],
         "source": [
            "dt.fit(X=X_train,y=y_train)"
         ]
      },
      {
         "cell_type": "code",
         "execution_count": 15,
         "metadata": {},
         "outputs": [
            {
               "data": {
                  "text/plain": [
                     "{'roof_type': 0.7450329159751323,\n",
                     " 'foundation_type': 0.06381221182995707,\n",
                     " 'geo_level_2_id': 0.03959463230609724,\n",
                     " 'position': 0.03367368415224366,\n",
                     " 'land_surface_condition': 0.02668650123258803,\n",
                     " 'ground_floor_type': 0.023228202578782144,\n",
                     " 'geo_level_3_id': 0.013799054129055254,\n",
                     " 'plan_configuration': 0.010093964941882465,\n",
                     " 'has_superstructure_stone_flag': 0.00797140013811492,\n",
                     " 'has_superstructure_timber': 0.004866506035513119,\n",
                     " 'has_superstructure_adobe_mud': 0.004150494168958291,\n",
                     " 'count_families': 0.003710253871560692,\n",
                     " 'count_floors_pre_eq': 0.003564032094528476,\n",
                     " 'other_floor_type': 0.00279472101838733,\n",
                     " 'has_superstructure_cement_mortar_brick': 0.0026781329831438894,\n",
                     " 'has_secondary_use': 0.0024362023305204467,\n",
                     " 'age': 0.0015973663895440156,\n",
                     " 'geo_level_1_id': 0.0015028649736778578,\n",
                     " 'has_superstructure_bamboo': 0.0011710778544867164,\n",
                     " 'has_superstructure_other': 0.001063494200594398,\n",
                     " 'has_superstructure_mud_mortar_brick': 0.0009999400120678874,\n",
                     " 'has_superstructure_mud_mortar_stone': 0.000935926228726482,\n",
                     " 'height_percentage': 0.0008659390019692393,\n",
                     " 'legal_ownership_status': 0.000823651730544071,\n",
                     " 'has_superstructure_rc_engineered': 0.0005654276461915675,\n",
                     " 'has_secondary_use_agriculture': 0.0005648151290496293,\n",
                     " 'area_percentage': 0.00048745882365576194,\n",
                     " 'has_superstructure_rc_non_engineered': 0.00048684713684997704,\n",
                     " 'has_secondary_use_hotel': 0.00048439181887753466,\n",
                     " 'has_superstructure_cement_mortar_stone': 0.00027387473810426647,\n",
                     " 'has_secondary_use_rental': 8.401452919513696e-05,\n",
                     " 'has_secondary_use_institution': 0.0,\n",
                     " 'has_secondary_use_school': 0.0,\n",
                     " 'has_secondary_use_industry': 0.0,\n",
                     " 'has_secondary_use_health_post': 0.0,\n",
                     " 'has_secondary_use_gov_office': 0.0,\n",
                     " 'has_secondary_use_use_police': 0.0,\n",
                     " 'has_secondary_use_other': 0.0}"
                  ]
               },
               "execution_count": 15,
               "metadata": {},
               "output_type": "execute_result"
            }
         ],
         "source": [
            "dt.get_feature_importance(X_train.columns)"
         ]
      },
      {
         "cell_type": "code",
         "execution_count": 7,
         "metadata": {},
         "outputs": [
            {
               "data": {
                  "text/plain": [
                     "0.7290151762245544"
                  ]
               },
               "execution_count": 7,
               "metadata": {},
               "output_type": "execute_result"
            }
         ],
         "source": [
            "dt.get_f1_score(X_test,y_test)"
         ]
      },
      {
         "cell_type": "code",
         "execution_count": 8,
         "metadata": {},
         "outputs": [],
         "source": [
            "prediction = dt.predict(X=X_test)"
         ]
      },
      {
         "cell_type": "markdown",
         "metadata": {},
         "source": [
            "## 3. XGBoost-Pipeline"
         ]
      },
      {
         "cell_type": "code",
         "execution_count": 9,
         "metadata": {},
         "outputs": [],
         "source": [
            "#xg = MyModel(model=\"XGBoost\",columns_to_labelencode=columns_to_label_encode, columns_to_targetencode=columns_to_target_encode)"
         ]
      },
      {
         "cell_type": "code",
         "execution_count": 10,
         "metadata": {},
         "outputs": [],
         "source": [
            "#xg.fit(X=X_train,y=y_train)"
         ]
      },
      {
         "cell_type": "code",
         "execution_count": 11,
         "metadata": {},
         "outputs": [],
         "source": [
            "#xg.get_f1_score(X_test,y_test)"
         ]
      },
      {
         "cell_type": "code",
         "execution_count": 12,
         "metadata": {},
         "outputs": [],
         "source": [
            "#xg.predict2submit(test_wo_id, test_values)\n"
         ]
      },
      {
         "cell_type": "markdown",
         "metadata": {},
         "source": [
            "## 4. LightGBM-Pipeline"
         ]
      },
      {
         "cell_type": "code",
         "execution_count": 13,
         "metadata": {},
         "outputs": [
            {
               "name": "stderr",
               "output_type": "stream",
               "text": [
               ]
            },
            {
               "name": "stdout",
               "output_type": "stream",
               "text": [
               ]
            }
         ],
         "source": [
            "lgbm = MyModel(model=\"LightGBM\",columns_to_labelencode=columns_to_label_encode, columns_to_targetencode=columns_to_target_encode)\n",
            "lgbm.fit(X=X_train,y=y_train)"
         ]
      },
      {
         "cell_type": "code",
         "execution_count": 14,
         "metadata": {},
         "outputs": [
            {
               "name": "stdout",
               "output_type": "stream",
               "text": [
                  "[LightGBM] [Warning] min_data_in_leaf is set=20, min_child_samples=20 will be ignored. Current value: min_data_in_leaf=20\n",
                  "[LightGBM] [Warning] feature_fraction is set=0.8, colsample_bytree=1.0 will be ignored. Current value: feature_fraction=0.8\n",
                  "[LightGBM] [Warning] lambda_l2 is set=0.1, reg_lambda=0.0 will be ignored. Current value: lambda_l2=0.1\n",
                  "[LightGBM] [Warning] lambda_l1 is set=0.1, reg_alpha=0.0 will be ignored. Current value: lambda_l1=0.1\n",
                  "[LightGBM] [Warning] bagging_fraction is set=1.0, subsample=1.0 will be ignored. Current value: bagging_fraction=1.0\n"
               ]
            },
            {
               "data": {
                  "text/plain": [
                  ]
               },
               "execution_count": 14,
               "metadata": {},
               "output_type": "execute_result"
            }
         ],
         "source": [
         ]
      },
      {
         "cell_type": "code",
         "execution_count": 19,
         "metadata": {},
         "outputs": [
            {
            }
         ],
         "source": [
            "lgbm.predict2submit(test_wo_id, test_values).to_csv(path_or_buf='./data/processed/20231007_lightgbm_geo_encoding.csv', index=False)"
         ]
      },
      {
         "cell_type": "markdown",
         "metadata": {},
         "source": [
            "## 99. Export this Jupyter Notebook as an HTML-file"
         ]
      },
      {
         "cell_type": "code",
         "metadata": {},
         "outputs": [],
         "source": [
            "# This command exports the Jupyter-Notebook as an HTML-File an saves it to ./reports/jupyter_html\n",
            "#os.system('DATE=$(date +%s); jupyter nbconvert --to html main.ipynb && mv ./main.html ./reports/jupyter_html/ && mv ./reports/jupyter_html/main.html ./reports/jupyter_html/notebook_${DATE}.html')"
         ]
      }
   ],
   "metadata": {
      "kernelspec": {
         "display_name": "minicomp",
         "language": "python",
         "name": "minicomp"
      },
      "language_info": {
         "codemirror_mode": {
            "name": "ipython",
            "version": 3
         },
         "file_extension": ".py",
         "mimetype": "text/x-python",
         "name": "python",
         "nbconvert_exporter": "python",
         "pygments_lexer": "ipython3",
         "version": "3.11.5"
      },
      "orig_nbformat": 4
   },
   "nbformat": 4,
   "nbformat_minor": 2
}
