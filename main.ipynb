{
   "cells": [
      {
         "cell_type": "code",
         "execution_count": 1,
         "metadata": {},
         "outputs": [],
         "source": [
            "from src.Models import MyModel\n",
            "\n",
            "from sklearn.metrics import f1_score\n",
            "from sklearn.model_selection import train_test_split\n",
            "import pandas as pd\n",
            "import numpy as np\n",
            "import os"
         ]
      },
      {
         "cell_type": "markdown",
         "metadata": {},
         "source": [
            "## 1. Load and split data"
         ]
      },
      {
         "cell_type": "code",
         "execution_count": 2,
         "metadata": {},
         "outputs": [],
         "source": [
            "train_values = pd.read_csv(\"./data/raw/train_values.csv\")\n",
            "train_labels = pd.read_csv(\"./data/raw/train_labels.csv\")\n",
            "test_values = pd.read_csv(\"./data/raw/test_values.csv\")\n",
            "\n",
            "# !!! DROP building_id !!!\n",
            "train_values.drop(columns='building_id',inplace=True)\n",
            "train_labels.drop(columns='building_id',inplace=True)\n",
            "test_wo_id = test_values.drop(columns='building_id')\n"
         ]
      },
      {
         "cell_type": "code",
         "execution_count": 3,
         "metadata": {},
         "outputs": [],
         "source": [
            "X_train,X_test,y_train,y_test = train_test_split(train_values,train_labels,random_state=42,test_size=0.2)"
         ]
      },
      {
         "cell_type": "code",
         "execution_count": 4,
         "metadata": {},
         "outputs": [],
         "source": [
            "columns_to_target_encode = ['geo_level_1_id','geo_level_2_id','geo_level_3_id','ground_floor_type']\n",
            "columns_to_label_encode = ['land_surface_condition','foundation_type','roof_type','other_floor_type','position','plan_configuration','legal_ownership_status']"
         ]
      },
      {
         "cell_type": "markdown",
         "metadata": {},
         "source": [
            "## 2. DecisionTree-Pipeline"
         ]
      },
      {
         "cell_type": "code",
         "execution_count": 5,
         "metadata": {},
         "outputs": [],
         "source": [
            "# Initialize Model\n",
            "dt = MyModel(model=\"DecisionTree\", columns_to_labelencode=columns_to_label_encode, columns_to_targetencode=columns_to_target_encode)"
         ]
      },
      {
         "cell_type": "code",
         "execution_count": 6,
         "metadata": {},
         "outputs": [
            {
               "name": "stderr",
               "output_type": "stream",
               "text": [
                  "/Users/leo/Desktop/Data Science/DSR/Minicomp_w_Paul/DSR_competition/.venv/lib/python3.11/site-packages/sklearn/utils/validation.py:1183: DataConversionWarning: A column-vector y was passed when a 1d array was expected. Please change the shape of y to (n_samples, ), for example using ravel().\n",
                  "  y = column_or_1d(y, warn=True)\n"
               ]
            },
            {
               "name": "stdout",
               "output_type": "stream",
               "text": [
                  "[Pipeline] ..... (step 1 of 2) Processing label_encoder, total=   0.7s\n",
                  "[Pipeline] ......... (step 2 of 2) Processing estimator, total=   1.7s\n"
               ]
            }
         ],
         "source": [
            "dt.fit(X=X_train,y=y_train)"
         ]
      },
      {
         "cell_type": "code",
         "execution_count": 15,
         "metadata": {},
         "outputs": [
            {
               "data": {
                  "text/plain": [
                     "{'roof_type': 0.7450329159751323,\n",
                     " 'foundation_type': 0.06381221182995707,\n",
                     " 'geo_level_2_id': 0.03959463230609724,\n",
                     " 'position': 0.03367368415224366,\n",
                     " 'land_surface_condition': 0.02668650123258803,\n",
                     " 'ground_floor_type': 0.023228202578782144,\n",
                     " 'geo_level_3_id': 0.013799054129055254,\n",
                     " 'plan_configuration': 0.010093964941882465,\n",
                     " 'has_superstructure_stone_flag': 0.00797140013811492,\n",
                     " 'has_superstructure_timber': 0.004866506035513119,\n",
                     " 'has_superstructure_adobe_mud': 0.004150494168958291,\n",
                     " 'count_families': 0.003710253871560692,\n",
                     " 'count_floors_pre_eq': 0.003564032094528476,\n",
                     " 'other_floor_type': 0.00279472101838733,\n",
                     " 'has_superstructure_cement_mortar_brick': 0.0026781329831438894,\n",
                     " 'has_secondary_use': 0.0024362023305204467,\n",
                     " 'age': 0.0015973663895440156,\n",
                     " 'geo_level_1_id': 0.0015028649736778578,\n",
                     " 'has_superstructure_bamboo': 0.0011710778544867164,\n",
                     " 'has_superstructure_other': 0.001063494200594398,\n",
                     " 'has_superstructure_mud_mortar_brick': 0.0009999400120678874,\n",
                     " 'has_superstructure_mud_mortar_stone': 0.000935926228726482,\n",
                     " 'height_percentage': 0.0008659390019692393,\n",
                     " 'legal_ownership_status': 0.000823651730544071,\n",
                     " 'has_superstructure_rc_engineered': 0.0005654276461915675,\n",
                     " 'has_secondary_use_agriculture': 0.0005648151290496293,\n",
                     " 'area_percentage': 0.00048745882365576194,\n",
                     " 'has_superstructure_rc_non_engineered': 0.00048684713684997704,\n",
                     " 'has_secondary_use_hotel': 0.00048439181887753466,\n",
                     " 'has_superstructure_cement_mortar_stone': 0.00027387473810426647,\n",
                     " 'has_secondary_use_rental': 8.401452919513696e-05,\n",
                     " 'has_secondary_use_institution': 0.0,\n",
                     " 'has_secondary_use_school': 0.0,\n",
                     " 'has_secondary_use_industry': 0.0,\n",
                     " 'has_secondary_use_health_post': 0.0,\n",
                     " 'has_secondary_use_gov_office': 0.0,\n",
                     " 'has_secondary_use_use_police': 0.0,\n",
                     " 'has_secondary_use_other': 0.0}"
                  ]
               },
               "execution_count": 15,
               "metadata": {},
               "output_type": "execute_result"
            }
         ],
         "source": [
            "dt.get_feature_importance(X_train.columns)"
         ]
      },
      {
         "cell_type": "code",
         "execution_count": 7,
         "metadata": {},
         "outputs": [
            {
               "data": {
                  "text/plain": [
                     "0.7290151762245544"
                  ]
               },
               "execution_count": 7,
               "metadata": {},
               "output_type": "execute_result"
            }
         ],
         "source": [
            "dt.get_f1_score(X_test,y_test)"
         ]
      },
      {
         "cell_type": "code",
         "execution_count": 8,
         "metadata": {},
         "outputs": [],
         "source": [
            "prediction = dt.predict(X=X_test)"
         ]
      },
      {
         "cell_type": "markdown",
         "metadata": {},
         "source": [
            "## 3. XGBoost-Pipeline"
         ]
      },
      {
         "cell_type": "code",
         "execution_count": 9,
         "metadata": {},
         "outputs": [],
         "source": [
            "xg = MyModel(model=\"XGBoost\",columns_to_labelencode=columns_to_label_encode, columns_to_targetencode=columns_to_target_encode)"
         ]
      },
      {
         "cell_type": "code",
         "execution_count": 10,
         "metadata": {},
         "outputs": [
            {
               "name": "stderr",
               "output_type": "stream",
               "text": [
                  "/Users/leo/Desktop/Data Science/DSR/Minicomp_w_Paul/DSR_competition/.venv/lib/python3.11/site-packages/sklearn/utils/validation.py:1183: DataConversionWarning: A column-vector y was passed when a 1d array was expected. Please change the shape of y to (n_samples, ), for example using ravel().\n",
                  "  y = column_or_1d(y, warn=True)\n"
               ]
            },
            {
               "name": "stdout",
               "output_type": "stream",
               "text": [
                  "[Pipeline] ..... (step 1 of 2) Processing label_encoder, total=   0.5s\n"
               ]
            },
            {
               "name": "stderr",
               "output_type": "stream",
               "text": [
                  "/Users/leo/Desktop/Data Science/DSR/Minicomp_w_Paul/DSR_competition/.venv/lib/python3.11/site-packages/xgboost/data.py:384: FutureWarning: is_categorical_dtype is deprecated and will be removed in a future version. Use isinstance(dtype, CategoricalDtype) instead\n",
                  "  if is_categorical_dtype(dtype):\n",
                  "/Users/leo/Desktop/Data Science/DSR/Minicomp_w_Paul/DSR_competition/.venv/lib/python3.11/site-packages/xgboost/data.py:359: FutureWarning: is_categorical_dtype is deprecated and will be removed in a future version. Use isinstance(dtype, CategoricalDtype) instead\n",
                  "  return is_int or is_bool or is_float or is_categorical_dtype(dtype)\n",
                  "/Users/leo/Desktop/Data Science/DSR/Minicomp_w_Paul/DSR_competition/.venv/lib/python3.11/site-packages/xgboost/data.py:384: FutureWarning: is_categorical_dtype is deprecated and will be removed in a future version. Use isinstance(dtype, CategoricalDtype) instead\n",
                  "  if is_categorical_dtype(dtype):\n",
                  "/Users/leo/Desktop/Data Science/DSR/Minicomp_w_Paul/DSR_competition/.venv/lib/python3.11/site-packages/xgboost/data.py:359: FutureWarning: is_categorical_dtype is deprecated and will be removed in a future version. Use isinstance(dtype, CategoricalDtype) instead\n",
                  "  return is_int or is_bool or is_float or is_categorical_dtype(dtype)\n",
                  "/Users/leo/Desktop/Data Science/DSR/Minicomp_w_Paul/DSR_competition/.venv/lib/python3.11/site-packages/xgboost/data.py:384: FutureWarning: is_categorical_dtype is deprecated and will be removed in a future version. Use isinstance(dtype, CategoricalDtype) instead\n",
                  "  if is_categorical_dtype(dtype):\n",
                  "/Users/leo/Desktop/Data Science/DSR/Minicomp_w_Paul/DSR_competition/.venv/lib/python3.11/site-packages/xgboost/data.py:359: FutureWarning: is_categorical_dtype is deprecated and will be removed in a future version. Use isinstance(dtype, CategoricalDtype) instead\n",
                  "  return is_int or is_bool or is_float or is_categorical_dtype(dtype)\n",
                  "/Users/leo/Desktop/Data Science/DSR/Minicomp_w_Paul/DSR_competition/.venv/lib/python3.11/site-packages/xgboost/data.py:384: FutureWarning: is_categorical_dtype is deprecated and will be removed in a future version. Use isinstance(dtype, CategoricalDtype) instead\n",
                  "  if is_categorical_dtype(dtype):\n",
                  "/Users/leo/Desktop/Data Science/DSR/Minicomp_w_Paul/DSR_competition/.venv/lib/python3.11/site-packages/xgboost/data.py:359: FutureWarning: is_categorical_dtype is deprecated and will be removed in a future version. Use isinstance(dtype, CategoricalDtype) instead\n",
                  "  return is_int or is_bool or is_float or is_categorical_dtype(dtype)\n"
               ]
            },
            {
               "name": "stdout",
               "output_type": "stream",
               "text": [
                  "[Pipeline] ......... (step 2 of 2) Processing estimator, total=  34.7s\n"
               ]
            }
         ],
         "source": [
            "xg.fit(X=X_train,y=y_train)"
         ]
      },
      {
         "cell_type": "code",
         "execution_count": 11,
         "metadata": {},
         "outputs": [
            {
               "data": {
                  "text/plain": [
                     "{'roof_type': 0.17494015,\n",
                     " 'geo_level_3_id': 0.087452106,\n",
                     " 'has_superstructure_stone_flag': 0.061802138,\n",
                     " 'geo_level_2_id': 0.05159849,\n",
                     " 'has_superstructure_timber': 0.049260247,\n",
                     " 'foundation_type': 0.043266203,\n",
                     " 'ground_floor_type': 0.03957217,\n",
                     " 'position': 0.031832606,\n",
                     " 'has_superstructure_cement_mortar_brick': 0.028083744,\n",
                     " 'has_superstructure_mud_mortar_stone': 0.026463572,\n",
                     " 'count_floors_pre_eq': 0.023313362,\n",
                     " 'has_secondary_use': 0.022341942,\n",
                     " 'land_surface_condition': 0.021719104,\n",
                     " 'count_families': 0.020473188,\n",
                     " 'has_superstructure_cement_mortar_stone': 0.02005862,\n",
                     " 'has_superstructure_other': 0.01825314,\n",
                     " 'legal_ownership_status': 0.017602082,\n",
                     " 'has_superstructure_mud_mortar_brick': 0.017257812,\n",
                     " 'other_floor_type': 0.01714942,\n",
                     " 'has_secondary_use_agriculture': 0.015362011,\n",
                     " 'has_superstructure_bamboo': 0.014780173,\n",
                     " 'height_percentage': 0.014701442,\n",
                     " 'area_percentage': 0.014466862,\n",
                     " 'has_superstructure_rc_non_engineered': 0.014285784,\n",
                     " 'plan_configuration': 0.013939156,\n",
                     " 'has_superstructure_adobe_mud': 0.013630044,\n",
                     " 'age': 0.013402274,\n",
                     " 'geo_level_1_id': 0.0130615765,\n",
                     " 'has_superstructure_rc_engineered': 0.012988455,\n",
                     " 'has_secondary_use_hotel': 0.012794877,\n",
                     " 'has_secondary_use_industry': 0.012547759,\n",
                     " 'has_secondary_use_other': 0.01237903,\n",
                     " 'has_secondary_use_rental': 0.011976352,\n",
                     " 'has_secondary_use_institution': 0.009464988,\n",
                     " 'has_secondary_use_school': 0.009126941,\n",
                     " 'has_secondary_use_health_post': 0.0077566993,\n",
                     " 'has_secondary_use_gov_office': 0.005813565,\n",
                     " 'has_secondary_use_use_police': 0.005081982}"
                  ]
               },
               "execution_count": 11,
               "metadata": {},
               "output_type": "execute_result"
            }
         ],
         "source": [
            "xg.get_feature_importance(X_train.columns)"
         ]
      },
      {
         "cell_type": "code",
         "execution_count": 12,
         "metadata": {},
         "outputs": [
            {
               "data": {
                  "text/plain": [
                     "0.7406995261027224"
                  ]
               },
               "execution_count": 12,
               "metadata": {},
               "output_type": "execute_result"
            }
         ],
         "source": [
            "xg.get_f1_score(X_test,y_test)"
         ]
      },
      {
         "cell_type": "code",
         "execution_count": 13,
         "metadata": {},
         "outputs": [
            {
               "data": {
                  "text/html": [
                     "<div>\n",
                     "<style scoped>\n",
                     "    .dataframe tbody tr th:only-of-type {\n",
                     "        vertical-align: middle;\n",
                     "    }\n",
                     "\n",
                     "    .dataframe tbody tr th {\n",
                     "        vertical-align: top;\n",
                     "    }\n",
                     "\n",
                     "    .dataframe thead th {\n",
                     "        text-align: right;\n",
                     "    }\n",
                     "</style>\n",
                     "<table border=\"1\" class=\"dataframe\">\n",
                     "  <thead>\n",
                     "    <tr style=\"text-align: right;\">\n",
                     "      <th></th>\n",
                     "      <th>building_id</th>\n",
                     "      <th>damage_grade</th>\n",
                     "    </tr>\n",
                     "  </thead>\n",
                     "  <tbody>\n",
                     "    <tr>\n",
                     "      <th>0</th>\n",
                     "      <td>300051</td>\n",
                     "      <td>3</td>\n",
                     "    </tr>\n",
                     "    <tr>\n",
                     "      <th>1</th>\n",
                     "      <td>99355</td>\n",
                     "      <td>2</td>\n",
                     "    </tr>\n",
                     "    <tr>\n",
                     "      <th>2</th>\n",
                     "      <td>890251</td>\n",
                     "      <td>2</td>\n",
                     "    </tr>\n",
                     "    <tr>\n",
                     "      <th>3</th>\n",
                     "      <td>745817</td>\n",
                     "      <td>1</td>\n",
                     "    </tr>\n",
                     "    <tr>\n",
                     "      <th>4</th>\n",
                     "      <td>421793</td>\n",
                     "      <td>3</td>\n",
                     "    </tr>\n",
                     "    <tr>\n",
                     "      <th>...</th>\n",
                     "      <td>...</td>\n",
                     "      <td>...</td>\n",
                     "    </tr>\n",
                     "    <tr>\n",
                     "      <th>86863</th>\n",
                     "      <td>310028</td>\n",
                     "      <td>2</td>\n",
                     "    </tr>\n",
                     "    <tr>\n",
                     "      <th>86864</th>\n",
                     "      <td>663567</td>\n",
                     "      <td>3</td>\n",
                     "    </tr>\n",
                     "    <tr>\n",
                     "      <th>86865</th>\n",
                     "      <td>1049160</td>\n",
                     "      <td>2</td>\n",
                     "    </tr>\n",
                     "    <tr>\n",
                     "      <th>86866</th>\n",
                     "      <td>442785</td>\n",
                     "      <td>2</td>\n",
                     "    </tr>\n",
                     "    <tr>\n",
                     "      <th>86867</th>\n",
                     "      <td>501372</td>\n",
                     "      <td>1</td>\n",
                     "    </tr>\n",
                     "  </tbody>\n",
                     "</table>\n",
                     "<p>86868 rows × 2 columns</p>\n",
                     "</div>"
                  ],
                  "text/plain": [
                     "       building_id  damage_grade\n",
                     "0           300051             3\n",
                     "1            99355             2\n",
                     "2           890251             2\n",
                     "3           745817             1\n",
                     "4           421793             3\n",
                     "...            ...           ...\n",
                     "86863       310028             2\n",
                     "86864       663567             3\n",
                     "86865      1049160             2\n",
                     "86866       442785             2\n",
                     "86867       501372             1\n",
                     "\n",
                     "[86868 rows x 2 columns]"
                  ]
               },
               "execution_count": 13,
               "metadata": {},
               "output_type": "execute_result"
            }
         ],
         "source": [
            "xg.predict2submit(test_wo_id, test_values)\n"
         ]
      },
      {
         "cell_type": "markdown",
         "metadata": {},
         "source": [
            "## 99. Export this Jupyter Notebook as an HTML-file"
         ]
      },
      {
         "cell_type": "code",
         "execution_count": 14,
         "metadata": {},
         "outputs": [],
         "source": [
            "# This command exports the Jupyter-Notebook as an HTML-File an saves it to ./reports/jupyter_html\n",
            "#os.system('DATE=$(date +%s); jupyter nbconvert --to html main.ipynb && mv ./main.html ./reports/jupyter_html/ && mv ./reports/jupyter_html/main.html ./reports/jupyter_html/notebook_${DATE}.html')"
         ]
      }
   ],
   "metadata": {
      "kernelspec": {
         "display_name": "minicomp",
         "language": "python",
         "name": "minicomp"
      },
      "language_info": {
         "codemirror_mode": {
            "name": "ipython",
            "version": 3
         },
         "file_extension": ".py",
         "mimetype": "text/x-python",
         "name": "python",
         "nbconvert_exporter": "python",
         "pygments_lexer": "ipython3",
         "version": "3.11.5"
      },
      "orig_nbformat": 4
   },
   "nbformat": 4,
   "nbformat_minor": 2
}
