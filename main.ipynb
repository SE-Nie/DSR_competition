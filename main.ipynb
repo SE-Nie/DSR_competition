{
   "cells": [
      {
         "cell_type": "code",
         "execution_count": 16,
         "metadata": {},
         "outputs": [],
         "source": [
            "from src.Models import MyModel\n",
            "\n",
            "from sklearn.metrics import f1_score\n",
            "from sklearn.model_selection import train_test_split\n",
            "import pandas as pd\n",
            "import numpy as np\n",
            "import os"
         ]
      },
      {
         "cell_type": "markdown",
         "metadata": {},
         "source": [
            "## 1. Load and split data"
         ]
      },
      {
         "cell_type": "code",
         "execution_count": 12,
         "metadata": {},
         "outputs": [],
         "source": [
            "X_train = pd.read_csv(\"./data/processed/X_train_upsampled.csv\")\n",
            "y_train = pd.read_csv(\"./data/processed/y_train_upsampled.csv\")\n",
            "X_test = pd.read_csv(\"./data/processed/X_test_from_upsampled.csv\")\n",
            "y_test = pd.read_csv(\"./data/processed/y_test_from_upsampled.csv\")\n",
            "# !!! DROP building_id !!!\n",
            "X_train.drop(columns='building_id',inplace=True)\n",
            "y_test.drop(columns='building_id',inplace=True)\n",
            "X_test.drop(columns='building_id',inplace=True)\n",
            "y_train.drop(columns='building_id',inplace=True)"
         ]
      },
      {
         "cell_type": "code",
         "execution_count": 13,
         "metadata": {},
         "outputs": [],
         "source": [
            "#X_train,X_test,y_train,y_test = train_test_split(train_values,train_labels,random_state=42,test_size=0.2)"
         ]
      },
      {
         "cell_type": "code",
         "execution_count": 14,
         "metadata": {},
         "outputs": [],
         "source": [
            "columns_to_target_encode = ['geo_level_1_id','geo_level_2_id','geo_level_3_id']\n",
            "columns_to_label_encode = ['land_surface_condition','foundation_type','roof_type','ground_floor_type','other_floor_type','position','plan_configuration','legal_ownership_status']"
         ]
      },
      {
         "cell_type": "markdown",
         "metadata": {},
         "source": [
            "## 2. DecisionTree-Pipeline"
         ]
      },
      {
         "cell_type": "code",
         "execution_count": 15,
         "metadata": {},
         "outputs": [],
         "source": [
            "# Initialize Model\n",
            "dt = MyModel(model=\"DecisionTree\", columns_to_labelencode=columns_to_label_encode, columns_to_targetencode=columns_to_target_encode)"
         ]
      },
      {
         "cell_type": "code",
         "execution_count": 16,
         "metadata": {},
         "outputs": [
            {
               "name": "stderr",
               "output_type": "stream",
               "text": [
                  "/home/svenja/anaconda3/envs/competition/lib/python3.11/site-packages/sklearn/utils/validation.py:1183: DataConversionWarning: A column-vector y was passed when a 1d array was expected. Please change the shape of y to (n_samples, ), for example using ravel().\n",
                  "  y = column_or_1d(y, warn=True)\n"
               ]
            },
            {
               "name": "stdout",
               "output_type": "stream",
               "text": [
                  "[Pipeline] ..... (step 1 of 2) Processing label_encoder, total=   0.5s\n",
                  "[Pipeline] ......... (step 2 of 2) Processing estimator, total=   1.7s\n"
               ]
            }
         ],
         "source": [
            "dt.fit(X=X_train,y=y_train)"
         ]
      },
      {
         "cell_type": "code",
         "execution_count": 17,
         "metadata": {},
         "outputs": [
            {
               "data": {
                  "text/plain": [
                     "0.6636864219796244"
                  ]
               },
               "execution_count": 17,
               "metadata": {},
               "output_type": "execute_result"
            }
         ],
         "source": [
            "dt.get_f1_score(X_test,y_test)"
         ]
      },
      {
         "cell_type": "code",
         "execution_count": 18,
         "metadata": {},
         "outputs": [],
         "source": [
            "prediction = dt.predict(X=X_test)"
         ]
      },
      {
         "cell_type": "markdown",
         "metadata": {},
         "source": [
            "## 3. XGBoost-Pipeline"
         ]
      },
      {
         "cell_type": "code",
         "execution_count": 19,
         "metadata": {},
         "outputs": [],
         "source": [
            "xg = MyModel(model=\"XGBoost\",columns_to_labelencode=columns_to_label_encode, columns_to_targetencode=columns_to_target_encode)"
         ]
      },
      {
         "cell_type": "code",
         "execution_count": 20,
         "metadata": {},
         "outputs": [
            {
               "name": "stderr",
               "output_type": "stream",
               "text": [
                  "/home/svenja/anaconda3/envs/competition/lib/python3.11/site-packages/sklearn/utils/validation.py:1183: DataConversionWarning: A column-vector y was passed when a 1d array was expected. Please change the shape of y to (n_samples, ), for example using ravel().\n",
                  "  y = column_or_1d(y, warn=True)\n"
               ]
            },
            {
               "name": "stdout",
               "output_type": "stream",
               "text": [
                  "[Pipeline] ..... (step 1 of 2) Processing label_encoder, total=   0.5s\n"
               ]
            },
            {
               "name": "stderr",
               "output_type": "stream",
               "text": [
                  "/home/svenja/anaconda3/envs/competition/lib/python3.11/site-packages/xgboost/data.py:384: FutureWarning: is_categorical_dtype is deprecated and will be removed in a future version. Use isinstance(dtype, CategoricalDtype) instead\n",
                  "  if is_categorical_dtype(dtype):\n",
                  "/home/svenja/anaconda3/envs/competition/lib/python3.11/site-packages/xgboost/data.py:359: FutureWarning: is_categorical_dtype is deprecated and will be removed in a future version. Use isinstance(dtype, CategoricalDtype) instead\n",
                  "  return is_int or is_bool or is_float or is_categorical_dtype(dtype)\n",
                  "/home/svenja/anaconda3/envs/competition/lib/python3.11/site-packages/xgboost/data.py:384: FutureWarning: is_categorical_dtype is deprecated and will be removed in a future version. Use isinstance(dtype, CategoricalDtype) instead\n",
                  "  if is_categorical_dtype(dtype):\n",
                  "/home/svenja/anaconda3/envs/competition/lib/python3.11/site-packages/xgboost/data.py:359: FutureWarning: is_categorical_dtype is deprecated and will be removed in a future version. Use isinstance(dtype, CategoricalDtype) instead\n",
                  "  return is_int or is_bool or is_float or is_categorical_dtype(dtype)\n",
                  "/home/svenja/anaconda3/envs/competition/lib/python3.11/site-packages/xgboost/data.py:384: FutureWarning: is_categorical_dtype is deprecated and will be removed in a future version. Use isinstance(dtype, CategoricalDtype) instead\n",
                  "  if is_categorical_dtype(dtype):\n",
                  "/home/svenja/anaconda3/envs/competition/lib/python3.11/site-packages/xgboost/data.py:359: FutureWarning: is_categorical_dtype is deprecated and will be removed in a future version. Use isinstance(dtype, CategoricalDtype) instead\n",
                  "  return is_int or is_bool or is_float or is_categorical_dtype(dtype)\n",
                  "/home/svenja/anaconda3/envs/competition/lib/python3.11/site-packages/xgboost/data.py:384: FutureWarning: is_categorical_dtype is deprecated and will be removed in a future version. Use isinstance(dtype, CategoricalDtype) instead\n",
                  "  if is_categorical_dtype(dtype):\n",
                  "/home/svenja/anaconda3/envs/competition/lib/python3.11/site-packages/xgboost/data.py:359: FutureWarning: is_categorical_dtype is deprecated and will be removed in a future version. Use isinstance(dtype, CategoricalDtype) instead\n",
                  "  return is_int or is_bool or is_float or is_categorical_dtype(dtype)\n"
               ]
            },
            {
               "name": "stdout",
               "output_type": "stream",
               "text": [
                  "[Pipeline] ......... (step 2 of 2) Processing estimator, total=  24.7s\n"
               ]
            }
         ],
         "source": [
            "xg.fit(X=X_train,y=y_train)"
         ]
      },
      {
         "cell_type": "code",
         "execution_count": 21,
         "metadata": {},
         "outputs": [
            {
               "data": {
                  "text/plain": [
                     "0.6898562959267858"
                  ]
               },
               "execution_count": 21,
               "metadata": {},
               "output_type": "execute_result"
            }
         ],
         "source": [
            "xg.get_f1_score(X_test,y_test)"
         ]
      },
      {
         "cell_type": "markdown",
         "metadata": {},
         "source": [
            "## 99. Export this Jupyter Notebook as an HTML-file"
         ]
      },
      {
         "cell_type": "code",
         "execution_count": 25,
         "metadata": {},
         "outputs": [
            {
               "name": "stderr",
               "output_type": "stream",
               "text": [
                  "[NbConvertApp] Converting notebook main.ipynb to html\n",
                  "[NbConvertApp] Writing 593983 bytes to main.html\n"
               ]
            },
            {
               "data": {
                  "text/plain": [
                     "0"
                  ]
               },
               "execution_count": 25,
               "metadata": {},
               "output_type": "execute_result"
            }
         ],
         "source": [
            "# This command exports the Jupyter-Notebook as an HTML-File an saves it to ./reports/jupyter_html\n",
            "os.system('DATE=$(date +%s); jupyter nbconvert --to html main.ipynb && mv ./main.html ./reports/jupyter_html/ && mv ./reports/jupyter_html/main.html ./reports/jupyter_html/notebook_${DATE}.html')"
         ]
      },
      {
         "cell_type": "code",
         "execution_count": null,
         "metadata": {},
         "outputs": [],
         "source": []
      }
   ],
   "metadata": {
      "kernelspec": {
         "display_name": "minicomp",
         "language": "python",
         "name": "minicomp"
      },
      "language_info": {
         "codemirror_mode": {
            "name": "ipython",
            "version": 3
         },
         "file_extension": ".py",
         "mimetype": "text/x-python",
         "name": "python",
         "nbconvert_exporter": "python",
         "pygments_lexer": "ipython3",
         "version": "3.11.5"
      },
      "orig_nbformat": 4
   },
   "nbformat": 4,
   "nbformat_minor": 2
}